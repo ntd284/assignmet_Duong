{
 "cells": [
  {
   "cell_type": "code",
   "execution_count": 0,
   "metadata": {
    "application/vnd.databricks.v1+cell": {
     "cellMetadata": {
      "byteLimit": 2048000,
      "rowLimit": 10000
     },
     "inputWidgets": {},
     "nuid": "e73a28e6-f0d4-4787-b753-0086dcfee832",
     "showTitle": false,
     "tableResultSettingsMap": {},
     "title": ""
    }
   },
   "outputs": [
    {
     "data": {
      "text/html": [
       "\n",
       "            <div>\n",
       "                <p><b>SparkSession - hive</b></p>\n",
       "                \n",
       "        <div>\n",
       "            <p><b>SparkContext</b></p>\n",
       "\n",
       "            <p><a href=\"/?o=2037775603067890#setting/sparkui/1222-130249-6ogeut8i/driver-5091710937899038453\">Spark UI</a></p>\n",
       "\n",
       "            <dl>\n",
       "              <dt>Version</dt>\n",
       "                <dd><code>v3.5.0</code></dd>\n",
       "              <dt>Master</dt>\n",
       "                <dd><code>local[*, 4]</code></dd>\n",
       "              <dt>AppName</dt>\n",
       "                <dd><code>Databricks Shell</code></dd>\n",
       "            </dl>\n",
       "        </div>\n",
       "        \n",
       "            </div>\n",
       "        "
      ],
      "text/plain": [
       "<pyspark.sql.session.SparkSession at 0x7f06ccd44490>"
      ]
     },
     "execution_count": 69,
     "metadata": {},
     "output_type": "execute_result"
    }
   ],
   "source": [
    "spark"
   ]
  },
  {
   "cell_type": "code",
   "execution_count": 0,
   "metadata": {
    "application/vnd.databricks.v1+cell": {
     "cellMetadata": {
      "byteLimit": 2048000,
      "rowLimit": 10000
     },
     "inputWidgets": {},
     "nuid": "37a0c67b-8a29-46d7-9619-157b86286a99",
     "showTitle": false,
     "tableResultSettingsMap": {},
     "title": ""
    }
   },
   "outputs": [
    {
     "name": "stdout",
     "output_type": "stream",
     "text": [
      "Mount point already exists. Skipping mount.\n"
     ]
    }
   ],
   "source": [
    "# Read file from Azure Data Lake Storage Gen2\n",
    "\n",
    "configs = {\"fs.azure.account.auth.type\": \"OAuth\",\n",
    "\"fs.azure.account.oauth.provider.type\": \"org.apache.hadoop.fs.azurebfs.oauth2.ClientCredsTokenProvider\",\n",
    "\"fs.azure.account.oauth2.client.id\": \"['client_id']\",\n",
    "\"fs.azure.account.oauth2.client.secret\": '[secret_value]',\n",
    "\"fs.azure.account.oauth2.client.endpoint\": \"https://login.microsoftonline.com/[directory]/oauth2/token\"}\n",
    "\n",
    "\n",
    "if any(mount.mountPoint == \"/mnt/cask-mount\" for mount in dbutils.fs.mounts()):\n",
    "    print(\"Mount point already exists. Skipping mount.\")\n",
    "else:\n",
    "    dbutils.fs.mount(\n",
    "        source=\"abfss://cask-container@caskng.dfs.core.windows.net\",\n",
    "        mount_point=\"/mnt/cask-mount\",\n",
    "        extra_configs=configs\n",
    "    )\n"
   ]
  },
  {
   "cell_type": "code",
   "execution_count": 0,
   "metadata": {
    "application/vnd.databricks.v1+cell": {
     "cellMetadata": {
      "byteLimit": 2048000,
      "rowLimit": 10000
     },
     "inputWidgets": {},
     "nuid": "17741aa9-9204-4772-af4f-f82b7a49a1ca",
     "showTitle": false,
     "tableResultSettingsMap": {},
     "title": ""
    }
   },
   "outputs": [
    {
     "name": "stdout",
     "output_type": "stream",
     "text": [
      "+-------+----------+--------+--------------------+----------+--------------------+-----------+---------+-----------+---------+-----------+--------------------+--------+-------+-------------------+\n",
      "|orderId| orderDate|branchId|          branchName|CustomerID|        customerName|totalAmount|   status|statusValue|productId|productCode|         productName|isMaster|  price|               note|\n",
      "+-------+----------+--------+--------------------+----------+--------------------+-----------+---------+-----------+---------+-----------+--------------------+--------+-------+-------------------+\n",
      "|OD00001|2024-10-12|       3|Chi nhánh Hồ Chí ...|   KH00988|    Huỳnh Thị Thu Hà|         67|  Pending|          0|     4371|      SP003|Điện thoại thông ...|    true|2831662|   Mua kèm giảm giá|\n",
      "|OD00002|2024-05-07|       3|   Chi nhánh Đà Nẵng|   KH00707|        Vũ Minh Quân|         25|  Pending|          2|     6136|      SP001|Điện thoại thông ...|    true|2613885|Khuyến mãi đặc biệt|\n",
      "|OD00003|2024-10-19|       7| Chi nhánh Hải Phòng|   KH00124|        Ngô Văn Long|         61|Cancelled|          2|     2624|      SP004|            Máy giặt|    true|3483776|               NULL|\n",
      "|OD00004|2024-11-30|       5|    Chi nhánh Hà Nội|   KH00777|      Hoàng Văn Tiến|         78|Completed|          2|     7925|      SP003|        Nồi cơm điện|    true|6141938|Khuyến mãi đặc biệt|\n",
      "|OD00005|2024-11-29|       2|Chi nhánh Hồ Chí ...|   KH00772|        Đỗ Hoàng Anh|         84|Cancelled|          1|     3171|      SP005|       Ghế văn phòng|   false|6546649|      Hàng giảm giá|\n",
      "|OD00006|2024-06-17|       8|    Chi nhánh Hà Nội|   KH00665|        Vũ Minh Quân|         33|Completed|          0|     5043|      SP004|      Sách giáo khoa|   false|1055687|Khuyến mãi đặc biệt|\n",
      "|OD00007|2024-10-23|       6|   Chi nhánh Đà Nẵng|   KH00862|        Vũ Minh Quân|          3|Completed|          1|     8702|      SP001|       Ghế văn phòng|   false|4059125|               NULL|\n",
      "|OD00008|2024-12-10|       1|   Chi nhánh Đà Nẵng|   KH00719|        Nguyễn Văn A|         29|  Pending|          1|     7921|      SP001|Điện thoại thông ...|   false|2195750|Khuyến mãi đặc biệt|\n",
      "|OD00009|2024-10-13|       1| Chi nhánh Hải Phòng|   KH00087|        Nguyễn Văn A|         46|Cancelled|          1|     5116|      SP004|   Máy tính xách tay|    true|1495296|      Hàng giảm giá|\n",
      "|OD00010|2024-04-28|      10|    Chi nhánh Hà Nội|   KH00186|Phạm Thị Thanh Hương|         46|  Pending|          2|     5487|      SP002|        Bàn làm việc|    true|5636371|   Mua kèm giảm giá|\n",
      "+-------+----------+--------+--------------------+----------+--------------------+-----------+---------+-----------+---------+-----------+--------------------+--------+-------+-------------------+\n",
      "only showing top 10 rows\n",
      "\n"
     ]
    }
   ],
   "source": [
    "# Read the file from the mounted location\n",
    "orders_df = spark.read.format(\"csv\") \\\n",
    "                .option(\"header\", \"True\") \\\n",
    "                .option(\"inferSchema\", \"True\") \\\n",
    "                .load(\"/mnt/cask-mount/raw-data/order_sink.csv\")\n",
    "\n",
    "orders_df.show(10)\n",
    "\n",
    "\n"
   ]
  },
  {
   "cell_type": "code",
   "execution_count": 0,
   "metadata": {
    "application/vnd.databricks.v1+cell": {
     "cellMetadata": {
      "byteLimit": 2048000,
      "rowLimit": 10000
     },
     "inputWidgets": {},
     "nuid": "f1610f24-9c0c-4bd1-9c9b-eabd8dc72125",
     "showTitle": false,
     "tableResultSettingsMap": {},
     "title": ""
    }
   },
   "outputs": [
    {
     "name": "stdout",
     "output_type": "stream",
     "text": [
      "+----------+--------------------+------+----------+-------------+-----------+--------------------+--------------------+-------+-------+----------+------------+-----------+\n",
      "|CUSTOMERID|        CUSTOMERNAME|GENDER| BIRTHDATE|CONTACTNUMBER|     REGION|               EMAIL|        ORGANIZATION|TAXCODE|   DEBT|RETAILERID|MODIFIEDDATE|CREATEDDATE|\n",
      "+----------+--------------------+------+----------+-------------+-----------+--------------------+--------------------+-------+-------+----------+------------+-----------+\n",
      "|   KH00001|        Đo Hoang Anh| false|1970-01-01|  84559607840|  Hai Phong|đohoanganh@exampl...|Doanh nghiep Hoa ...| VN9293|6253.49|        20|  2024-09-06| 2023-01-13|\n",
      "|   KH00002|        Đo Hoang Anh| false|1970-01-01|  84339104876|  Hai Phong|đohoanganh@exampl...|Doanh nghiep Hoa ...| VN4635| 526.94|        71|  2024-01-04| 2023-05-11|\n",
      "|   KH00003|         Bui Thi Lan| false|1974-04-02|  84173415628|  Hai Phong|buithilan@example...|Cong ty Co phan T...| VN8622|1459.81|        68|  2024-01-01| 2023-01-31|\n",
      "|   KH00004|  Tran Thi Bich Ngoc| false|1973-08-30|  84194147243|    Can Tho|tranthibichngoc@e...|        Tap đoan XYZ| VN6021|5631.43|        91|  2024-03-07| 2023-02-04|\n",
      "|   KH00005|        Vu Minh Quan| false|1970-01-01|  84858951192|     Ha Noi|vuminhquan@exampl...|Cong ty Co phan T...| VN3005|9095.17|         1|  2024-01-01| 2023-07-10|\n",
      "|   KH00006|       Đang Thi Hanh|  true|1970-01-01|  84283221354|    Can Tho|đangthihanh@examp...|Doanh nghiep Hoa ...| VN7733|7209.65|       100|  2024-06-12| 2023-04-26|\n",
      "|   KH00007|Pham Thi Thanh Huong| false|1970-01-01|  84940863759|Ho Chi Minh|phamthithanhhuong...|        Tap đoan XYZ| VN8525|6931.14|        90|  2024-08-22| 2023-11-08|\n",
      "|   KH00008|    Huynh Thi Thu Ha| false|1977-07-28|  84368889297|    Can Tho|huynhthithuha@exa...|Cong ty Co phan T...| VN4188|2778.83|        28|  2024-01-01| 2023-06-23|\n",
      "|   KH00009|        Phan Thi Mai| false|1970-01-01|  84417027040|    Can Tho|phanthimai@exampl...|    Cong ty TNHH ABC| VN9116| 385.48|        50|  2024-01-01| 2023-10-06|\n",
      "|   KH00010|       Đang Thi Hanh| false|1995-01-03|  84303917310|    Đa Nang|đangthihanh@examp...|    Cong ty TNHH ABC| VN2061|8128.02|        34|  2024-01-01| 2023-07-28|\n",
      "+----------+--------------------+------+----------+-------------+-----------+--------------------+--------------------+-------+-------+----------+------------+-----------+\n",
      "only showing top 10 rows\n",
      "\n"
     ]
    }
   ],
   "source": [
    "# Read the file from the mounted location\n",
    "\n",
    "customerdb_df = spark.read.format(\"csv\") \\\n",
    "                .option(\"header\", \"True\") \\\n",
    "                .option(\"inferSchema\", \"True\") \\\n",
    "                .load(\"/mnt/cask-mount/raw-data/customerdb_sink.csv\")\n",
    "\n",
    "customerdb_df.show(10)"
   ]
  },
  {
   "cell_type": "code",
   "execution_count": 0,
   "metadata": {
    "application/vnd.databricks.v1+cell": {
     "cellMetadata": {
      "byteLimit": 2048000,
      "rowLimit": 10000
     },
     "inputWidgets": {},
     "nuid": "79454867-0e23-4321-90e1-7f9ca0016740",
     "showTitle": false,
     "tableResultSettingsMap": {},
     "title": ""
    }
   },
   "outputs": [],
   "source": [
    "# Deduplicate the data\n",
    "from pyspark.sql.functions import to_date, col\n",
    "\n",
    "order_date = orders_df.withColumn(\"orderdate\", to_date(col(\"orderdate\"), \"yyyy-MM-dd\"))\n",
    "order_deduplicate = order_date.dropDuplicates()\n",
    "\n",
    "customerdb_deduplicate = customerdb_df.dropDuplicates()\n"
   ]
  },
  {
   "cell_type": "code",
   "execution_count": 0,
   "metadata": {
    "application/vnd.databricks.v1+cell": {
     "cellMetadata": {
      "byteLimit": 2048000,
      "rowLimit": 10000
     },
     "inputWidgets": {},
     "nuid": "1ce768a6-eaf8-4674-b6b5-2f5a7ed4b6ec",
     "showTitle": false,
     "tableResultSettingsMap": {},
     "title": ""
    }
   },
   "outputs": [
    {
     "name": "stdout",
     "output_type": "stream",
     "text": [
      "+----------+----------------+-----------+-------+----------+-----------+\n",
      "|customerid|    customername|     region|orderid| OrderDate|totalamount|\n",
      "+----------+----------------+-----------+-------+----------+-----------+\n",
      "|   KH00569|   Nguyen Van An|Ho Chi Minh|OD02264|2024-01-14|         57|\n",
      "|   KH00485|  Hoang Van Tien|     Ha Noi|OD01352|2024-09-12|         19|\n",
      "|   KH00705|   Nguyen Van An|Ho Chi Minh|OD00431|2024-03-19|         72|\n",
      "|   KH00264|     Bui Thi Lan|    Can Tho|OD00234|2024-09-28|         62|\n",
      "|   KH00008|Huynh Thi Thu Ha|    Can Tho|OD00295|2024-04-15|         49|\n",
      "|   KH00354|    Cao Minh Tam|  Hai Phong|OD00855|2024-12-11|         70|\n",
      "|   KH00602|   Le Minh Hoang|  Hai Phong|OD00920|2024-09-28|         48|\n",
      "|   KH00109|    Đo Hoang Anh|    Can Tho|OD01574|2024-10-26|         55|\n",
      "|   KH00655|  Ly Thi Kim Chi|    Can Tho|OD00815|2024-10-03|         40|\n",
      "|   KH00105|    Phan Thi Mai|     Ha Noi|OD00874|2024-11-03|         39|\n",
      "+----------+----------------+-----------+-------+----------+-----------+\n",
      "only showing top 10 rows\n",
      "\n"
     ]
    }
   ],
   "source": [
    "# Join the data\n",
    "df_result = order_deduplicate.alias('o').join(\n",
    "    customerdb_deduplicate.alias('c'),\n",
    "    on='CUSTOMERID',\n",
    "    how='left'\n",
    ")\n",
    "df_result = df_result.select('customerid','c.customername','c.region','o.orderid','o.OrderDate','o.totalamount')\n",
    "\n",
    "df_result.show(10)"
   ]
  },
  {
   "cell_type": "code",
   "execution_count": 0,
   "metadata": {
    "application/vnd.databricks.v1+cell": {
     "cellMetadata": {
      "byteLimit": 2048000,
      "rowLimit": 10000
     },
     "inputWidgets": {},
     "nuid": "e8e93c2d-1a60-43e7-97ac-2430fae979e7",
     "showTitle": false,
     "tableResultSettingsMap": {},
     "title": ""
    }
   },
   "outputs": [],
   "source": [
    "# Write the data to Delta Lake\n",
    "df_result.write \\\n",
    "    .format(\"delta\") \\\n",
    "    .mode(\"overwrite\") \\\n",
    "    .option(\"header\", \"true\") \\\n",
    "    .save(\"/mnt/cask-mount/integrated-data/IntegratedOrders\")\n"
   ]
  }
 ],
 "metadata": {
  "application/vnd.databricks.v1+notebook": {
   "computePreferences": null,
   "dashboards": [],
   "environmentMetadata": {
    "base_environment": "",
    "client": "1"
   },
   "language": "python",
   "notebookMetadata": {
    "mostRecentlyExecutedCommandWithImplicitDF": {
     "commandId": -1,
     "dataframes": [
      "_sqldf"
     ]
    },
    "pythonIndentUnit": 4
   },
   "notebookName": "Cask-databrick-notebook",
   "widgets": {}
  },
  "language_info": {
   "name": "python"
  }
 },
 "nbformat": 4,
 "nbformat_minor": 0
}
